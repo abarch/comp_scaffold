{
 "cells": [
  {
   "cell_type": "code",
   "execution_count": 2,
   "metadata": {},
   "outputs": [],
   "source": [
    "from hmmlearn import hmm\n",
    "import pandas as pd\n",
    "import os\n",
    "import numpy as np\n",
    "import pickle"
   ]
  },
  {
   "cell_type": "code",
   "execution_count": 3,
   "metadata": {},
   "outputs": [],
   "source": [
    "def get_sequence(filename, X, lengths):\n",
    "    file = pd.read_csv(filename)\n",
    "    for i, row in file.iterrows():\n",
    "        X.append(list(row[4:]))\n",
    "    lengths.append(len(file))\n",
    "    return X, lengths"
   ]
  },
  {
   "cell_type": "code",
   "execution_count": 4,
   "metadata": {},
   "outputs": [],
   "source": [
    "def findBestHMM(filename):\n",
    "    logProbMax = 0\n",
    "    modelBest = None\n",
    "    PBest = None\n",
    "    for i in range(10):\n",
    "        try:\n",
    "            model, mus, sigmas, P, logProb, convergence = fitHMM(X, lengths)\n",
    "            if logProb > logProbMax and convergence.converged == True:\n",
    "                logProbMax = logProb\n",
    "                modelBest = model\n",
    "                PBest = P \n",
    "        except:\n",
    "            continue\n",
    "    with open(filename + \".pkl\", \"wb\") as file: pickle.dump(modelBest, file)\n",
    "    return modelBest, logProbMax, PBest"
   ]
  },
  {
   "cell_type": "code",
   "execution_count": 483,
   "metadata": {},
   "outputs": [
    {
     "name": "stdout",
     "output_type": "stream",
     "text": [
      "/n both hands\n",
      "P [[0.86111111 0.13888889]\n",
      " [0.         1.        ]]\n",
      "logProb 887.5562371912263\n",
      "convergences ConvergenceMonitor(\n",
      "    history=[360.6733255036544, 863.6037882075915, 887.5562371366185, 887.5562371912263],\n",
      "    iter=4,\n",
      "    n_iter=1000,\n",
      "    tol=0.01,\n",
      "    verbose=False,\n",
      ")\n",
      "\n"
     ]
    }
   ],
   "source": [
    "#for directory in [\"None\", \"right hand\", \"single note\", \"slower\", \"split hands\", \"both hands\"]:\n",
    "directory = \"both hands\"\n",
    "lengths = []\n",
    "X = []\n",
    "for filename in os.listdir(directory):\n",
    "    X, lengths = get_sequence(directory + \"/\" + filename, X, lengths)\n",
    "model, mus, sigmas, P, logProb, convergence = fitHMM(X, lengths) #directory equals practice mode\n",
    "#model, logProb, P = findBestHMM(directory)\n",
    "print(\"/n\", directory)\n",
    "print(\"P\", P)\n",
    "print(\"logProb\", logProb)\n",
    "#print(\"means\", mus)\n",
    "print(\"convergences\", convergence)\n",
    "print(\"\")\n"
   ]
  },
  {
   "cell_type": "code",
   "execution_count": 445,
   "metadata": {},
   "outputs": [],
   "source": [
    "#with open(\"both hands2.pkl\", \"wb\") as file: pickle.dump(model, file)"
   ]
  },
  {
   "cell_type": "code",
   "execution_count": 467,
   "metadata": {},
   "outputs": [],
   "source": [
    "def fitHMM(X, lengths):\n",
    "    # fit Gaussian HMM to Q\n",
    "    model = hmm.GaussianHMM(n_components=2, n_iter=1000, init_params=\"cm\")\n",
    "    \n",
    "    model.startprob_ = np.array([1.0, 0.0]) # same initial state\n",
    "    model.transmat_ = np.array([[0.5, 0.5], \n",
    "                                [0.0, 1.0]])\n",
    "     \n",
    "    model.fit(X, lengths)\n",
    "    # classify each observation as state 0 or 1\n",
    "    #hidden_states = model.predict(X)\n",
    " \n",
    "    # find parameters of Gaussian HMM\n",
    "    convergence = model.monitor_\n",
    "    mus = np.array(model.means_)\n",
    "    sigmas = np.array(np.sqrt(np.array([np.diag(model.covars_[0]),np.diag(model.covars_[1])])))\n",
    "    P = np.array(model.transmat_)\n",
    " \n",
    "    # find log-likelihood of Gaussian HMM\n",
    "    logProb = model.score(X, lengths)\n",
    " \n",
    "    return model, mus, sigmas, P, logProb, convergence #hidden_states"
   ]
  },
  {
   "cell_type": "markdown",
   "metadata": {},
   "source": [
    "## Normalise with error values"
   ]
  },
  {
   "cell_type": "code",
   "execution_count": 497,
   "metadata": {},
   "outputs": [
    {
     "name": "stdout",
     "output_type": "stream",
     "text": [
      "Transition matrix\n",
      "[[0.95067437 0.04932563]\n",
      " [0.         1.        ]]\n",
      "[3.232643636308577, 2.840237179012517]\n",
      "min 0 0\n",
      "state with min_error: 1\n",
      "state with max error: 0\n",
      "state with new min_error: 0\n",
      "state with new max error: 0\n",
      "Transition matrix after\n",
      "[[1.         0.        ]\n",
      " [0.04932563 0.95067437]]\n"
     ]
    }
   ],
   "source": [
    "filename = \"single note1.pkl\"\n",
    "with open(\"BestTwoStates/\"  + filename, \"rb\") as file:\n",
    "            model = pickle.load(file)\n",
    "print(\"Transition matrix\")\n",
    "print(model.transmat_)\n",
    "\n",
    "#print(\"Model means\")\n",
    "#print(model.means_)\n",
    "mus = model.means_\n",
    "\n",
    "state0 = mus[0][5] + mus[0][11]\n",
    "state1 = mus[1][5] + mus[1][11]\n",
    "\n",
    "print([state0, state1])\n",
    "\n",
    "max_error = np.argmax([state0, state1])\n",
    "min_error = np.argmin([state0, state1])\n",
    "\n",
    "new_max, new_min = new_error_comp(mus)\n",
    "\n",
    "print(\"state with min_error:\", min_error)\n",
    "print(\"state with max error:\", max_error)\n",
    "\n",
    "print(\"state with new min_error:\", new_min)\n",
    "print(\"state with new max error:\", new_max)\n",
    "#means\n",
    "#covariance\n",
    "#transition\n",
    "indizes = []\n",
    "\n",
    "\n",
    "if new_min == 0:\n",
    "    indizes = [1,0]\n",
    "    model.transmat_ = swap_row(swap_column(model.transmat_, indizes), indizes)\n",
    "    model.means_ = swap_row(model.means_, indizes)\n",
    "\n",
    "\n",
    "print(\"Transition matrix after\")\n",
    "print(model.transmat_)\n",
    "\n",
    "        \n",
    "#with open(\"left hand4_new.pkl\", \"wb\") as file: pickle.dump(model, file)\n"
   ]
  },
  {
   "cell_type": "code",
   "execution_count": 489,
   "metadata": {},
   "outputs": [],
   "source": [
    "def new_error_comp(mus):\n",
    "    state0 = state1 = 0\n",
    "    for i in range(len(mus[0])):\n",
    "        emax = np.argmax([mus[0][i], mus[1][i]])\n",
    "        emin = np.argmin([mus[0][i], mus[1][i]])\n",
    "        if emax == 0:\n",
    "            state0 += 1\n",
    "        elif emax == 1:\n",
    "            state1 += 1\n",
    "        if emin == 0:\n",
    "            state0 -= 1\n",
    "        elif emin == 1:\n",
    "            state1 -= 1\n",
    "    new_max = np.argmax([state0, state1])\n",
    "    new_min = np.argmin([state0, state1])\n",
    "    print(\"min\", state0, state1)\n",
    "    return new_max, new_min"
   ]
  },
  {
   "cell_type": "code",
   "execution_count": 491,
   "metadata": {},
   "outputs": [],
   "source": [
    "def swap_column(arr, indizes):\n",
    "    arr[:, [0,1]] = arr[:, indizes]\n",
    "    return arr"
   ]
  },
  {
   "cell_type": "code",
   "execution_count": 490,
   "metadata": {},
   "outputs": [],
   "source": [
    "def swap_row(arr, indizes):\n",
    "    arr[[0,1]] = arr[indizes]\n",
    "    return arr"
   ]
  },
  {
   "cell_type": "code",
   "execution_count": null,
   "metadata": {},
   "outputs": [],
   "source": [
    "import numpy as np\n",
    "import matplotlib.pyplot as plt\n",
    "\n",
    "from hmmlearn import hmm\n",
    "\n",
    "# Prepare parameters for a 4-components HMM\n",
    "# Initial population probability\n",
    "startprob = np.array([0.6, 0.3, 0.1, 0.0])\n",
    "# The transition matrix, note that there are no transitions possible\n",
    "# between component 1 and 3\n",
    "transmat = np.array([[0.7, 0.2, 0.0, 0.1],\n",
    "                     [0.3, 0.5, 0.2, 0.0],\n",
    "                     [0.0, 0.3, 0.5, 0.2],\n",
    "                     [0.2, 0.0, 0.2, 0.6]])\n",
    "# The means of each component\n",
    "means = np.array([[0.0,  0.0],\n",
    "                  [0.0, 11.0],\n",
    "                  [9.0, 10.0],\n",
    "                  [11.0, -1.0]])\n",
    "# The covariance of each component\n",
    "covars = .5 * np.tile(np.identity(2), (4, 1, 1))\n",
    "\n",
    "# Build an HMM instance and set parameters\n",
    "model = hmm.GaussianHMM(n_components=4, covariance_type=\"full\")\n",
    "\n",
    "# Instead of fitting it from the data, we directly set the estimated\n",
    "# parameters, the means and covariance of the components\n",
    "model.startprob_ = startprob\n",
    "model.transmat_ = transmat\n",
    "model.means_ = means\n",
    "model.covars_ = covars\n",
    "\n",
    "# Generate samples\n",
    "X, Z = model.sample(500)\n",
    "\n",
    "# Plot the sampled data\n",
    "plt.plot(X[:, 0], X[:, 1], \".-\", label=\"observations\", ms=6,\n",
    "         mfc=\"orange\", alpha=0.7)\n",
    "\n",
    "# Indicate the component numbers\n",
    "for i, m in enumerate(means):\n",
    "    plt.text(m[0], m[1], 'Component %i' % (i + 1),\n",
    "             size=17, horizontalalignment='center',\n",
    "             bbox=dict(alpha=.7, facecolor='w'))\n",
    "plt.legend(loc='best')\n",
    "plt.show()"
   ]
  },
  {
   "cell_type": "code",
   "execution_count": null,
   "metadata": {},
   "outputs": [],
   "source": []
  }
 ],
 "metadata": {
  "kernelspec": {
   "display_name": "Python 3",
   "language": "python",
   "name": "python3"
  },
  "language_info": {
   "codemirror_mode": {
    "name": "ipython",
    "version": 3
   },
   "file_extension": ".py",
   "mimetype": "text/x-python",
   "name": "python",
   "nbconvert_exporter": "python",
   "pygments_lexer": "ipython3",
   "version": "3.9.4"
  }
 },
 "nbformat": 4,
 "nbformat_minor": 4
}
