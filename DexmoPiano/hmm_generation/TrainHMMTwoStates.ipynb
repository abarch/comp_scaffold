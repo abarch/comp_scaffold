{
 "cells": [
  {
   "cell_type": "markdown",
   "metadata": {},
   "source": [
    "This files is for training/generating HMMs with **two states**."
   ]
  },
  {
   "cell_type": "code",
   "execution_count": 7,
   "metadata": {},
   "outputs": [],
   "source": [
    "from hmmlearn import hmm\n",
    "import pandas as pd\n",
    "import os\n",
    "import numpy as np\n",
    "import pickle"
   ]
  },
  {
   "cell_type": "code",
   "execution_count": 8,
   "metadata": {},
   "outputs": [],
   "source": [
    "\"\"\"\n",
    "Appends the error values of the file(sequence) to X and the length of the sequence to the array lengths. \n",
    "\n",
    "@param filename: name of file/sequence\n",
    "@param X: array of error values for all practice opportunities of one practice mode\n",
    "@param lengths: array of lengths of the individual sequences\n",
    "\n",
    "\"\"\"\n",
    "def get_sequence(filename, X, lengths):\n",
    "    file = pd.read_csv(filename)\n",
    "    for i, row in file.iterrows():\n",
    "        X.append(list(row[4:]))\n",
    "    lengths.append(len(file))\n",
    "    return X, lengths"
   ]
  },
  {
   "cell_type": "code",
   "execution_count": 9,
   "metadata": {},
   "outputs": [],
   "source": [
    "\"\"\"\n",
    "Tries to find the best HMM, by returning the model with the highest score/log probability. Note that this is\n",
    "not necessarily the most reasonable, most-fitting model to the data, so exploring other models is important!\n",
    "\n",
    "@param filename: practice mode\n",
    "\n",
    "@return modelBest: model with the highest logProb\n",
    "@return logProbMax: the highest logProb\n",
    "@return PBest: the transition matrix corresponding to the best model\n",
    "\"\"\"\n",
    "def findBestHMM(filename):\n",
    "    logProbMax = 0\n",
    "    modelBest = None\n",
    "    PBest = None\n",
    "    for i in range(10):\n",
    "        try:\n",
    "            model, mus, sigmas, P, logProb, convergence = fitHMM(X, lengths)\n",
    "            if logProb > logProbMax and convergence.converged == True:\n",
    "                logProbMax = logProb\n",
    "                modelBest = model\n",
    "                PBest = P \n",
    "        except:\n",
    "            continue\n",
    "    with open(filename + \".pkl\", \"wb\") as file: pickle.dump(modelBest, file)\n",
    "    return modelBest, logProbMax, PBest"
   ]
  },
  {
   "cell_type": "code",
   "execution_count": 10,
   "metadata": {},
   "outputs": [],
   "source": [
    "\"\"\"\n",
    "Generates a Hidden Markov Model. The startprobability and initial transition probability should \n",
    "be varied between retries.\n",
    "\n",
    "@return model:\n",
    "@return mus: means of states\n",
    "@return sigmas: covariance matrix\n",
    "@return P: transition probability\n",
    "@return logProb:score of model\n",
    "@return convergence: monitors convergence of model\n",
    "\"\"\"\n",
    "def fitHMM(X, lengths):\n",
    "    # fit Gaussian HMM to Q\n",
    "    model = hmm.GaussianHMM(n_components=2, n_iter=1000, init_params=\"cm\")\n",
    "    \n",
    "    model.startprob_ = np.array([1.0, 0.0]) # same initial state\n",
    "    model.transmat_ = np.array([[0.5, 0.5], \n",
    "                                [0.0, 1.0]])\n",
    "     \n",
    "    model.fit(X, lengths)\n",
    "    # classify each observation as state 0 or 1\n",
    "    #hidden_states = model.predict(X)\n",
    " \n",
    "    # find parameters of Gaussian HMM\n",
    "    convergence = model.monitor_\n",
    "    mus = np.array(model.means_)\n",
    "    sigmas = np.array(np.sqrt(np.array([np.diag(model.covars_[0]),np.diag(model.covars_[1])])))\n",
    "    P = np.array(model.transmat_)\n",
    " \n",
    "    # find log-likelihood of Gaussian HMM\n",
    "    logProb = model.score(X, lengths)\n",
    " \n",
    "    return model, mus, sigmas, P, logProb, convergence #hidden_states"
   ]
  },
  {
   "cell_type": "code",
   "execution_count": 11,
   "metadata": {},
   "outputs": [
    {
     "name": "stdout",
     "output_type": "stream",
     "text": [
      "/n both hands\n",
      "P [[0.77777808 0.22222192]\n",
      " [0.         1.        ]]\n",
      "logProb 867.5739709456111\n",
      "convergences ConvergenceMonitor(\n",
      "    history=[347.57388404670047, 845.2975483347807, 867.5738946786869, 867.5739709057594],\n",
      "    iter=4,\n",
      "    n_iter=1000,\n",
      "    tol=0.01,\n",
      "    verbose=False,\n",
      ")\n",
      "\n"
     ]
    }
   ],
   "source": [
    "\"\"\"\n",
    "Main: Generates models for one practice mode (directory) or iteratively for all (don't forget to save them\n",
    "in that case).\n",
    "\"\"\"\n",
    "#for directory in [\"None\", \"right hand\", \"single note\", \"slower\", \"split hands\", \"both hands\"]:\n",
    "directory = \"both hands\"\n",
    "lengths = []\n",
    "X = []\n",
    "for filename in os.listdir(directory):\n",
    "    X, lengths = get_sequence(directory + \"/\" + filename, X, lengths)\n",
    "model, mus, sigmas, P, logProb, convergence = fitHMM(X, lengths) #directory equals practice mode\n",
    "#model, logProb, P = findBestHMM(directory)\n",
    "print(\"/n\", directory)\n",
    "print(\"P\", P)\n",
    "print(\"logProb\", logProb)\n",
    "#print(\"means\", mus)\n",
    "print(\"convergences\", convergence)\n",
    "print(\"\")\n"
   ]
  },
  {
   "cell_type": "code",
   "execution_count": 12,
   "metadata": {},
   "outputs": [
    {
     "data": {
      "text/plain": [
       "'For saving models:'"
      ]
     },
     "execution_count": 12,
     "metadata": {},
     "output_type": "execute_result"
    }
   ],
   "source": [
    "\"\"\"For saving models:\"\"\"\n",
    "#with open(\"both hands2.pkl\", \"wb\") as file: pickle.dump(model, file)"
   ]
  },
  {
   "cell_type": "markdown",
   "metadata": {},
   "source": [
    "## Normalise with error values"
   ]
  },
  {
   "cell_type": "code",
   "execution_count": 17,
   "metadata": {},
   "outputs": [
    {
     "name": "stdout",
     "output_type": "stream",
     "text": [
      "Transition matrix\n",
      "[[0.95067437 0.04932563]\n",
      " [0.         1.        ]]\n",
      "[3.232643636308577, 2.840237179012517]\n",
      "min 0 0\n",
      "state with min_error: 1\n",
      "state with max error: 0\n",
      "state with new min_error: 0\n",
      "state with new max error: 0\n",
      "Transition matrix after\n",
      "[[1.         0.        ]\n",
      " [0.04932563 0.95067437]]\n"
     ]
    }
   ],
   "source": [
    "\"\"\"\n",
    "Calculates and prints the state with the min/max error value(observation/performance errors) according\n",
    "to the raw errors and another error metric, which adds 1 to each state if its the min/max error value in \n",
    "that error section(eg pitch).\n",
    "This is then used to normalise the model. That means, that the transition matrix is saved in a way, that\n",
    "column/row 0 is always the unmastered state (high error) and column/row 1 is always the mastered state \n",
    "(low error).\n",
    "\"\"\"\n",
    "filename = \"single note1.pkl\"\n",
    "with open(\"BestTwoStates/\"  + filename, \"rb\") as file:\n",
    "            model = pickle.load(file)\n",
    "print(\"Transition matrix\")\n",
    "print(model.transmat_)\n",
    "\n",
    "#print(\"Model means\")\n",
    "#print(model.means_)\n",
    "mus = model.means_\n",
    "\n",
    "state0 = mus[0][5] + mus[0][11]\n",
    "state1 = mus[1][5] + mus[1][11]\n",
    "\n",
    "print([state0, state1])\n",
    "\n",
    "max_error = np.argmax([state0, state1])\n",
    "min_error = np.argmin([state0, state1])\n",
    "\n",
    "new_max, new_min = new_error_comp(mus)\n",
    "\n",
    "print(\"state with min_error:\", min_error)\n",
    "print(\"state with max error:\", max_error)\n",
    "\n",
    "print(\"state with new min_error:\", new_min)\n",
    "print(\"state with new max error:\", new_max)\n",
    "#means\n",
    "#covariance\n",
    "#transition\n",
    "indizes = []\n",
    "\n",
    "\n",
    "if new_min == 0:\n",
    "    indizes = [1,0]\n",
    "    model.transmat_ = swap_row(swap_column(model.transmat_, indizes), indizes)\n",
    "    model.means_ = swap_row(model.means_, indizes)\n",
    "\n",
    "\n",
    "print(\"Transition matrix after\")\n",
    "print(model.transmat_)\n",
    "\n",
    "        \n",
    "#with open(\"left hand4_new.pkl\", \"wb\") as file: pickle.dump(model, file)\n"
   ]
  },
  {
   "cell_type": "code",
   "execution_count": 14,
   "metadata": {},
   "outputs": [],
   "source": [
    "\"\"\"\n",
    "Calculates another min/max state in regards to errors, as described above.\n",
    "\"\"\"\n",
    "def new_error_comp(mus):\n",
    "    state0 = state1 = 0\n",
    "    for i in range(len(mus[0])):\n",
    "        emax = np.argmax([mus[0][i], mus[1][i]])\n",
    "        emin = np.argmin([mus[0][i], mus[1][i]])\n",
    "        if emax == 0:\n",
    "            state0 += 1\n",
    "        elif emax == 1:\n",
    "            state1 += 1\n",
    "        if emin == 0:\n",
    "            state0 -= 1\n",
    "        elif emin == 1:\n",
    "            state1 -= 1\n",
    "    new_max = np.argmax([state0, state1])\n",
    "    new_min = np.argmin([state0, state1])\n",
    "    print(\"min\", state0, state1)\n",
    "    return new_max, new_min"
   ]
  },
  {
   "cell_type": "code",
   "execution_count": 15,
   "metadata": {},
   "outputs": [],
   "source": [
    "def swap_column(arr, indizes):\n",
    "    arr[:, [0,1]] = arr[:, indizes]\n",
    "    return arr"
   ]
  },
  {
   "cell_type": "code",
   "execution_count": 16,
   "metadata": {},
   "outputs": [],
   "source": [
    "def swap_row(arr, indizes):\n",
    "    arr[[0,1]] = arr[indizes]\n",
    "    return arr"
   ]
  },
  {
   "cell_type": "code",
   "execution_count": null,
   "metadata": {},
   "outputs": [],
   "source": []
  }
 ],
 "metadata": {
  "kernelspec": {
   "display_name": "Python 3",
   "language": "python",
   "name": "python3"
  },
  "language_info": {
   "codemirror_mode": {
    "name": "ipython",
    "version": 3
   },
   "file_extension": ".py",
   "mimetype": "text/x-python",
   "name": "python",
   "nbconvert_exporter": "python",
   "pygments_lexer": "ipython3",
   "version": "3.9.4"
  }
 },
 "nbformat": 4,
 "nbformat_minor": 4
}
