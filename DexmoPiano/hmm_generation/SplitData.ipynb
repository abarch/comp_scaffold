{
 "cells": [
  {
   "cell_type": "code",
   "execution_count": 87,
   "id": "f97ed3a4",
   "metadata": {},
   "outputs": [],
   "source": [
    "import os\n",
    "import pandas as pd\n",
    "import numpy\n",
    "\n",
    "number = 0"
   ]
  },
  {
   "cell_type": "code",
   "execution_count": 88,
   "id": "6496634f",
   "metadata": {},
   "outputs": [],
   "source": [
    "def sequence(i, practice, level, file):\n",
    "    global number\n",
    "    index = i\n",
    "    row = file.iloc[index]\n",
    "    while (row[\"pm\"] == practice) & (row[\"level\"] == level):\n",
    "        index += 1\n",
    "        try:\n",
    "            row = file.iloc[index]\n",
    "        except:\n",
    "            index -= 1\n",
    "            break\n",
    "    new = file[i:index]\n",
    "    if not os.path.exists(practice):\n",
    "        os.makedirs(practice)\n",
    "    new.to_csv(practice+\"/\"+practice+str(number), mode='w', header=True, index=False)\n",
    "    #print(\"new file\", practice+\"/\"+practice+str(number), len(new))\n",
    "    number += 1"
   ]
  },
  {
   "cell_type": "code",
   "execution_count": 89,
   "id": "f91042e1",
   "metadata": {},
   "outputs": [],
   "source": [
    "def splitFile(filename):\n",
    "    print('\\n'+filename)\n",
    "    file = pd.read_csv(filename, names=[\"score1\",\"score2\",\"pm\", \"level\", \"pitch_right\", \"note_hold_time_right\",\n",
    "                                         \"timing_right\", \"n_missing_notes_right\", \"n_extra_notes_right\",\n",
    "                                         \"summed_right\", \"pitch_left\", \"note_hold_time_left\",\n",
    "                                         \"timing_left\", \"n_missing_notes_left\", \"n_extra_notes_left\",\n",
    "                                         \"summed_left\" ])\n",
    "    pm = None\n",
    "    level = None \n",
    "    index = 0\n",
    "    l = []\n",
    "    for i, row in file.iterrows():\n",
    "        if i < 4:\n",
    "            continue\n",
    "        if row[2] != pm or row[3] != level:\n",
    "            pm = row[2]\n",
    "            level = row[3]\n",
    "            index = i\n",
    "        else: #at least two repetitions\n",
    "            if (index, level, pm) not in l:\n",
    "                l.append((index, level, pm))\n",
    "    for i, level, practice in l:\n",
    "        sequence(i, practice, level, file)\n",
    "        "
   ]
  },
  {
   "cell_type": "code",
   "execution_count": 90,
   "id": "7b6bde12",
   "metadata": {},
   "outputs": [
    {
     "name": "stdout",
     "output_type": "stream",
     "text": [
      "Call file\n",
      "\n",
      "Data_Anonym/data12.csv\n",
      "Call file\n",
      "\n",
      "Data_Anonym/data11.csv\n",
      "Call file\n",
      "\n",
      "Data_Anonym/data5.csv\n",
      "Call file\n",
      "\n",
      "Data_Anonym/data1.csv\n",
      "Call file\n",
      "\n",
      "Data_Anonym/data3.csv\n",
      "Call file\n",
      "\n",
      "Data_Anonym/data4.csv\n",
      "Call file\n",
      "\n",
      "Data_Anonym/data6.csv\n",
      "Call file\n",
      "\n",
      "Data_Anonym/data8.csv\n",
      "Call file\n",
      "\n",
      "Data_Anonym/data7.csv\n",
      "Call file\n",
      "\n",
      "Data_Anonym/data2.csv\n",
      "Call file\n",
      "\n",
      "Data_Anonym/data9.csv\n",
      "Call file\n",
      "\n",
      "Data_Anonym/data10.csv\n"
     ]
    }
   ],
   "source": [
    "for filename in os.listdir(\"Data_Anonym\"):\n",
    "    print(\"Call file\")\n",
    "    splitFile(\"Data_Anonym/\"+filename)\n",
    "    "
   ]
  },
  {
   "cell_type": "code",
   "execution_count": null,
   "id": "7b783734",
   "metadata": {},
   "outputs": [],
   "source": []
  }
 ],
 "metadata": {
  "kernelspec": {
   "display_name": "snakemake-tutorial",
   "language": "python",
   "name": "snakemake-tutorial"
  },
  "language_info": {
   "codemirror_mode": {
    "name": "ipython",
    "version": 3
   },
   "file_extension": ".py",
   "mimetype": "text/x-python",
   "name": "python",
   "nbconvert_exporter": "python",
   "pygments_lexer": "ipython3",
   "version": "3.9.4"
  }
 },
 "nbformat": 4,
 "nbformat_minor": 5
}
